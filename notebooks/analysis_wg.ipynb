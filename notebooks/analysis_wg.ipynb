{
 "cells": [
  {
   "cell_type": "code",
   "execution_count": 2,
   "id": "8329c93a",
   "metadata": {},
   "outputs": [
    {
     "name": "stdout",
     "output_type": "stream",
     "text": [
      "The autoreload extension is already loaded. To reload it, use:\n",
      "  %reload_ext autoreload\n"
     ]
    }
   ],
   "source": [
    "import re\n",
    "import time\n",
    "import datetime\n",
    "from dateutil.relativedelta import relativedelta\n",
    "import numpy as np\n",
    "import pandas as pd\n",
    "pd.options.mode.chained_assignment = None  # default='warn'. Needed to remove SettingWithCopyWarning warning when assigning new value to dataframe column\n",
    "import matplotlib\n",
    "import matplotlib.pyplot as plt\n",
    "import matplotlib.gridspec as gridspec\n",
    "%matplotlib inline\n",
    "import seaborn as sns\n",
    "import plotly.express as px\n",
    "\n",
    "import statsmodels.formula.api as smf\n",
    "import scipy.stats as stats\n",
    "\n",
    "%load_ext autoreload\n",
    "%autoreload 2\n",
    "\n",
    "from housing_crawler.utils import save_file, get_file, crawl_ind_ad_page\n",
    "from housing_crawler.analysis.ads_table_processing import prepare_data, filter_out_bad_entries, transform_columns_into_numerical, hot_encode_columns, feature_engineering\n"
   ]
  },
  {
   "cell_type": "code",
   "execution_count": 46,
   "id": "3774e9b0",
   "metadata": {},
   "outputs": [
    {
     "name": "stdout",
     "output_type": "stream",
     "text": [
      "===> Loaded all_encoded.csv locally\n"
     ]
    }
   ],
   "source": [
    "all_ads = get_file(file_name='all_encoded.csv', local_file_path=f'housing_crawler/data')\n",
    "\n",
    "df_processed = prepare_data(ads_df = all_ads)\n",
    "df_processed = filter_out_bad_entries(ads_df = df_processed, country = 'Germany',\n",
    "                       price_max = 6000, price_min = 50,\n",
    "                      size_max = 400, size_min = 3,\n",
    "                      date_max = None, date_min = None, date_format = \"%d.%m.%Y\")\n",
    "df_processed = transform_columns_into_numerical(ads_df = df_processed)\n",
    "# df_processed = hot_encode_columns(ads_df = df_processed)\n",
    "df_processed = feature_engineering(ads_df = df_processed)\n",
    "\n",
    "df_processed = df_processed.drop(columns=['details_searched', 'cold_rent_euros',\n",
    "       'mandatory_costs_euros', 'extra_costs_euros', 'transfer_costs_euros',\n",
    "       'deposit', 'zip_code', 'home_total_size', 'smoking', 'wg_type',\n",
    "       'age_range', 'gender_search', 'energy', 'wg_possible', 'building_type',\n",
    "       'building_floor', 'furniture', 'kitchen', 'shower_type', 'tv',\n",
    "       'floor_type', 'heating', 'public_transport_distance', 'internet',\n",
    "       'parking', 'schufa_needed', 'extras_waschmaschine',\n",
    "       'extras_spuelmaschine', 'extras_terrasse', 'extras_balkon',\n",
    "       'extras_garten', 'extras_gartenmitbenutzung', 'extras_keller',\n",
    "       'extras_aufzug', 'extras_haustiere', 'extras_fahrradkeller',\n",
    "       'extras_dachboden', 'languages_deutsch', 'languages_englisch',\n",
    "       'number_languages', 'min_age_flatmates', 'max_age_flatmates'])"
   ]
  },
  {
   "cell_type": "code",
   "execution_count": 47,
   "id": "66f12489",
   "metadata": {},
   "outputs": [
    {
     "data": {
      "text/plain": [
       "Index(['id', 'url', 'landlord_type', 'title', 'price_euros', 'size_sqm',\n",
       "       'available_rooms', 'capacity', 'available_spots_wg', 'male_flatmates',\n",
       "       'female_flatmates', 'diverse_flatmates', 'published_on', 'published_at',\n",
       "       'address', 'city', 'crawler', 'latitude', 'longitude', 'available_from',\n",
       "       'available_to', 'type_offer_simple', 'day_of_week_publication',\n",
       "       'price_per_sqm', 'days_available'],\n",
       "      dtype='object')"
      ]
     },
     "execution_count": 47,
     "metadata": {},
     "output_type": "execute_result"
    }
   ],
   "source": [
    "df_processed.columns"
   ]
  },
  {
   "cell_type": "code",
   "execution_count": 50,
   "id": "cfc89241",
   "metadata": {},
   "outputs": [
    {
     "data": {
      "text/html": [
       "<div>\n",
       "<style scoped>\n",
       "    .dataframe tbody tr th:only-of-type {\n",
       "        vertical-align: middle;\n",
       "    }\n",
       "\n",
       "    .dataframe tbody tr th {\n",
       "        vertical-align: top;\n",
       "    }\n",
       "\n",
       "    .dataframe thead th {\n",
       "        text-align: right;\n",
       "    }\n",
       "</style>\n",
       "<table border=\"1\" class=\"dataframe\">\n",
       "  <thead>\n",
       "    <tr style=\"text-align: right;\">\n",
       "      <th></th>\n",
       "      <th>count</th>\n",
       "    </tr>\n",
       "    <tr>\n",
       "      <th>type_offer_simple</th>\n",
       "      <th></th>\n",
       "    </tr>\n",
       "  </thead>\n",
       "  <tbody>\n",
       "    <tr>\n",
       "      <th>WG</th>\n",
       "      <td>37147</td>\n",
       "    </tr>\n",
       "    <tr>\n",
       "      <th>Apartment</th>\n",
       "      <td>6810</td>\n",
       "    </tr>\n",
       "    <tr>\n",
       "      <th>Single-room flat</th>\n",
       "      <td>6337</td>\n",
       "    </tr>\n",
       "    <tr>\n",
       "      <th>House</th>\n",
       "      <td>107</td>\n",
       "    </tr>\n",
       "  </tbody>\n",
       "</table>\n",
       "</div>"
      ],
      "text/plain": [
       "                   count\n",
       "type_offer_simple       \n",
       "WG                 37147\n",
       "Apartment           6810\n",
       "Single-room flat    6337\n",
       "House                107"
      ]
     },
     "execution_count": 50,
     "metadata": {},
     "output_type": "execute_result"
    }
   ],
   "source": [
    "df_processed[['url', 'type_offer_simple']].groupby('type_offer_simple').count().rename(columns={'url':'count'}).sort_values(by = ['count'], ascending=False)"
   ]
  },
  {
   "cell_type": "code",
   "execution_count": 48,
   "id": "635b68cc",
   "metadata": {},
   "outputs": [],
   "source": [
    "## Filter type of offer\n",
    "wg_df = df_processed.query('type_offer_simple == \"WG\"\\\n",
    "                     & price_euros <= 2000\\\n",
    "                     & price_euros > 50\\\n",
    "                     & size_sqm <= 60\\\n",
    "                     & size_sqm >= 3').reset_index().drop(columns=['index'])\n",
    "\n",
    "flathouse_df = df_processed.query('type_offer_simple == \"Apartment\" | type_offer_simple == \"House\" \\\n",
    "                     & price_euros > 100').reset_index().drop(columns=['index'])\n",
    "\n",
    "notwg_df = df_processed.query('type_offer_simple != \"Flatshare\"\\\n",
    "                     & price_euros > 100').reset_index().drop(columns=['index'])"
   ]
  },
  {
   "cell_type": "code",
   "execution_count": null,
   "id": "4b9ab93d",
   "metadata": {},
   "outputs": [],
   "source": []
  }
 ],
 "metadata": {
  "kernelspec": {
   "display_name": "Python 3 (ipykernel)",
   "language": "python",
   "name": "python3"
  },
  "language_info": {
   "codemirror_mode": {
    "name": "ipython",
    "version": 3
   },
   "file_extension": ".py",
   "mimetype": "text/x-python",
   "name": "python",
   "nbconvert_exporter": "python",
   "pygments_lexer": "ipython3",
   "version": "3.8.12"
  },
  "toc": {
   "base_numbering": 1,
   "nav_menu": {},
   "number_sections": true,
   "sideBar": true,
   "skip_h1_title": false,
   "title_cell": "Table of Contents",
   "title_sidebar": "Contents",
   "toc_cell": false,
   "toc_position": {},
   "toc_section_display": true,
   "toc_window_display": false
  }
 },
 "nbformat": 4,
 "nbformat_minor": 5
}
